{
 "cells": [
  {
   "cell_type": "code",
   "execution_count": 1,
   "metadata": {},
   "outputs": [],
   "source": [
    "import pandas as pd #pandas library for dataframe manipulation\n",
    "import numpy as np #algebra\n",
    "import matplotlib.pyplot as plt #plotting graphs\n",
    "%matplotlib inline\n",
    "import seaborn as sns\n",
    "\n",
    "\n",
    "aisles = pd.read_csv('C:\\\\Users\\\\kj.park\\\\Desktop\\Class\\\\Instacart\\\\aisles.csv')\n",
    "order_products_prior = pd.read_csv(\"C:\\\\Users\\\\kj.park\\\\Desktop\\\\Class\\\\Instacart\\\\order_products__prior.csv\")\n",
    "orders = pd.read_csv(\"C:\\\\Users\\\\kj.park\\\\Desktop\\\\Class\\\\Instacart\\\\orders.csv\")\n",
    "products = pd.read_csv(\"C:\\\\Users\\\\kj.park\\Desktop\\\\Class\\\\Instacart\\\\products.csv\")\n",
    "order_products_train = pd.read_csv(\"C:\\\\Users\\\\kj.park\\\\Desktop\\\\Class\\\\Instacart\\\\order_products__train.csv\")\n",
    "departments = pd.read_csv(\"C:\\\\Users\\\\kj.park\\\\Desktop\\\\Class\\\\Instacart\\\\departments.csv\")"
   ]
  },
  {
   "cell_type": "code",
   "execution_count": 2,
   "metadata": {
    "scrolled": true
   },
   "outputs": [
    {
     "name": "stdout",
     "output_type": "stream",
     "text": [
      "(1384617, 15)\n",
      "(276923, 15)\n"
     ]
    }
   ],
   "source": [
    "train_set = orders[orders['eval_set']=='train']\n",
    "train_set = pd.merge(train_set, order_products_train, on='order_id', how='inner')\n",
    "train_set = pd.merge(train_set, products, on = 'product_id', how = 'inner')\n",
    "train_set = pd.merge(train_set, departments, on = 'department_id', how = 'inner')\n",
    "train_set = pd.merge(train_set, aisles, on = 'aisle_id', how = 'inner')\n",
    "print(train_set.shape)\n",
    "train_set = train_set.sample(frac=.2)\n",
    "print(train_set.shape)"
   ]
  },
  {
   "cell_type": "code",
   "execution_count": 3,
   "metadata": {},
   "outputs": [
    {
     "name": "stdout",
     "output_type": "stream",
     "text": [
      "(32434489, 15)\n",
      "(6486898, 15)\n"
     ]
    }
   ],
   "source": [
    "#This will serve  as the \"train\" for the model\n",
    "prior_set = orders[orders['eval_set']=='prior']\n",
    "prior_set = prior_set.merge(order_products_prior, on='order_id')\n",
    "prior_set = pd.merge(prior_set, products, on = 'product_id', how = 'inner')\n",
    "prior_set = pd.merge(prior_set, departments, on = 'department_id', how = 'inner')\n",
    "prior_set = pd.merge(prior_set, aisles, on = 'aisle_id', how = 'inner')\n",
    "print(prior_set.shape)\n",
    "prior_set = prior_set.sample(frac=.2)\n",
    "print(prior_set.shape)"
   ]
  },
  {
   "cell_type": "code",
   "execution_count": 4,
   "metadata": {},
   "outputs": [
    {
     "name": "stdout",
     "output_type": "stream",
     "text": [
      "<class 'pandas.core.frame.DataFrame'>\n",
      "Int64Index: 276923 entries, 1011187 to 525900\n",
      "Data columns (total 15 columns):\n",
      "order_id                  276923 non-null int64\n",
      "user_id                   276923 non-null int64\n",
      "eval_set                  276923 non-null object\n",
      "order_number              276923 non-null int64\n",
      "order_dow                 276923 non-null int64\n",
      "order_hour_of_day         276923 non-null int64\n",
      "days_since_prior_order    276923 non-null float64\n",
      "product_id                276923 non-null int64\n",
      "add_to_cart_order         276923 non-null int64\n",
      "reordered                 276923 non-null int64\n",
      "product_name              276923 non-null object\n",
      "aisle_id                  276923 non-null int64\n",
      "department_id             276923 non-null int64\n",
      "department                276923 non-null object\n",
      "aisle                     276923 non-null object\n",
      "dtypes: float64(1), int64(10), object(4)\n",
      "memory usage: 33.8+ MB\n",
      "<class 'pandas.core.frame.DataFrame'>\n",
      "Int64Index: 6486898 entries, 30288888 to 30359334\n",
      "Data columns (total 15 columns):\n",
      "order_id                  int64\n",
      "user_id                   int64\n",
      "eval_set                  object\n",
      "order_number              int64\n",
      "order_dow                 int64\n",
      "order_hour_of_day         int64\n",
      "days_since_prior_order    float64\n",
      "product_id                int64\n",
      "add_to_cart_order         int64\n",
      "reordered                 int64\n",
      "product_name              object\n",
      "aisle_id                  int64\n",
      "department_id             int64\n",
      "department                object\n",
      "aisle                     object\n",
      "dtypes: float64(1), int64(10), object(4)\n",
      "memory usage: 791.9+ MB\n"
     ]
    }
   ],
   "source": [
    "#IGnore\n",
    "non_text = [',','-',' ','.','&','%','#', '(',')','[',']','*']\n",
    "for symbols in non_text:\n",
    "    train_set['product_name'] = train_set['product_name'].str.replace(symbols, '')\n",
    "    prior_set['product_name'] = prior_set['product_name'].str.replace(symbols, '')\n",
    "train_set.info()\n",
    "prior_set.info()"
   ]
  },
  {
   "cell_type": "code",
   "execution_count": 5,
   "metadata": {},
   "outputs": [
    {
     "name": "stdout",
     "output_type": "stream",
     "text": [
      "(276923, 25101)\n",
      "(276923,)\n"
     ]
    }
   ],
   "source": [
    "#Train Set Preparation: using train_set to prepare and check against the \"prior set\"\n",
    "train = train_set.loc[:,('user_id','order_id','order_number', 'product_name','department', 'aisle','order_dow','order_hour_of_day','days_since_prior_order','add_to_cart_order','reordered')]\n",
    "train = pd.get_dummies(train)\n",
    "train_X = train.loc[:, train.columns != 'reordered']\n",
    "train_y = train.loc[:,('reordered')]\n",
    "print(train_X.shape)\n",
    "print(train_y.shape)\n"
   ]
  },
  {
   "cell_type": "code",
   "execution_count": null,
   "metadata": {},
   "outputs": [],
   "source": [
    "#Train Set Preparation: using train_set to prepare and check against the \"prior set\"\n",
    "test_set = prior_set.loc[:,('user_id','order_id','order_number', 'product_name','department', 'aisle','order_dow','order_hour_of_day','days_since_prior_order','add_to_cart_order','reordered')]\n",
    "test_set = pd.get_dummies(test_set)\n",
    "test_set['days_since_prior_order'] = test_set['days_since_prior_order'].fillna(value=0)\n",
    "test_X = test_set.loc[:, test_set.columns != 'reordered']\n",
    "test_y = test_set.loc[:,('reordered')]\n",
    "print(test_X.shape)\n",
    "print(test_y.shape)\n"
   ]
  },
  {
   "cell_type": "code",
   "execution_count": null,
   "metadata": {
    "scrolled": true
   },
   "outputs": [],
   "source": [
    "test_X.isnull().sum()"
   ]
  },
  {
   "cell_type": "code",
   "execution_count": null,
   "metadata": {},
   "outputs": [],
   "source": [
    "from sklearn.linear_model import LogisticRegression\n",
    "LogReg = LogisticRegression()"
   ]
  },
  {
   "cell_type": "code",
   "execution_count": null,
   "metadata": {
    "scrolled": true
   },
   "outputs": [],
   "source": [
    "LogReg = LogisticRegression()"
   ]
  },
  {
   "cell_type": "code",
   "execution_count": null,
   "metadata": {},
   "outputs": [],
   "source": [
    "LogReg.fit(train_X, train_y).score(test_X, test_y)\n",
    "\n",
    "#.predict(test_X)\n",
    "#test_y.head()"
   ]
  },
  {
   "cell_type": "code",
   "execution_count": null,
   "metadata": {},
   "outputs": [],
   "source": []
  },
  {
   "cell_type": "code",
   "execution_count": null,
   "metadata": {},
   "outputs": [],
   "source": []
  },
  {
   "cell_type": "code",
   "execution_count": null,
   "metadata": {},
   "outputs": [],
   "source": []
  },
  {
   "cell_type": "code",
   "execution_count": null,
   "metadata": {},
   "outputs": [],
   "source": []
  },
  {
   "cell_type": "code",
   "execution_count": null,
   "metadata": {},
   "outputs": [],
   "source": []
  },
  {
   "cell_type": "code",
   "execution_count": null,
   "metadata": {},
   "outputs": [],
   "source": [
    "#IGnore\n",
    "non_text = [',','-',' ','?','.','&','%','#', '(',')','[',']','*','^','$','@','=','+','!','®']\n",
    "for symbols in non_text:\n",
    "    train_set['product_name'] = train_set['product_name'].str.replace(symbols, '')\n",
    "    prior_set['product_name'] = prior_set['product_name'].str.replace(symbols, '')\n",
    "train_set.info()\n",
    "prior_set.info()"
   ]
  }
 ],
 "metadata": {
  "kernelspec": {
   "display_name": "Python 3",
   "language": "python",
   "name": "python3"
  },
  "language_info": {
   "codemirror_mode": {
    "name": "ipython",
    "version": 3
   },
   "file_extension": ".py",
   "mimetype": "text/x-python",
   "name": "python",
   "nbconvert_exporter": "python",
   "pygments_lexer": "ipython3",
   "version": "3.6.2"
  }
 },
 "nbformat": 4,
 "nbformat_minor": 2
}

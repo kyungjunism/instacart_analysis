{
 "cells": [
  {
   "cell_type": "code",
   "execution_count": 10,
   "metadata": {},
   "outputs": [],
   "source": [
    "import pandas as pd #pandas library for dataframe manipulation\n",
    "import numpy as np #algebra\n",
    "import matplotlib.pyplot as plt #plotting graphs\n",
    "%matplotlib inline\n",
    "import seaborn as sns\n",
    "\n",
    "\n",
    "aisles = pd.read_csv('C:\\\\Users\\\\kj.park\\\\Desktop\\Class\\\\Instacart\\\\aisles.csv')\n",
    "order_products_prior = pd.read_csv(\"C:\\\\Users\\\\kj.park\\\\Desktop\\\\Class\\\\Instacart\\\\order_products__prior.csv\")\n",
    "orders = pd.read_csv(\"C:\\\\Users\\\\kj.park\\\\Desktop\\\\Class\\\\Instacart\\\\orders.csv\")\n",
    "products = pd.read_csv(\"C:\\\\Users\\\\kj.park\\Desktop\\\\Class\\\\Instacart\\\\products.csv\")\n",
    "order_products_train = pd.read_csv(\"C:\\\\Users\\\\kj.park\\\\Desktop\\\\Class\\\\Instacart\\\\order_products__train.csv\")\n",
    "departments = pd.read_csv(\"C:\\\\Users\\\\kj.park\\\\Desktop\\\\Class\\\\Instacart\\\\departments.csv\")"
   ]
  },
  {
   "cell_type": "code",
   "execution_count": 11,
   "metadata": {
    "scrolled": true
   },
   "outputs": [
    {
     "name": "stdout",
     "output_type": "stream",
     "text": [
      "(1384617, 15)\n",
      "(69231, 15)\n"
     ]
    }
   ],
   "source": [
    "train_set = orders[orders['eval_set']=='train']\n",
    "train_set = pd.merge(train_set, order_products_train, on='order_id', how='inner')\n",
    "train_set = pd.merge(train_set, products, on = 'product_id', how = 'inner')\n",
    "train_set = pd.merge(train_set, departments, on = 'department_id', how = 'inner')\n",
    "train_set = pd.merge(train_set, aisles, on = 'aisle_id', how = 'inner')\n",
    "print(train_set.shape)\n",
    "train_set = train_set.sample(frac=.05)\n",
    "print(train_set.shape)"
   ]
  },
  {
   "cell_type": "code",
   "execution_count": 12,
   "metadata": {},
   "outputs": [
    {
     "name": "stdout",
     "output_type": "stream",
     "text": [
      "(32434489, 15)\n",
      "(32434, 15)\n"
     ]
    }
   ],
   "source": [
    "#This will serve  as the \"train\" for the model\n",
    "prior_set = orders[orders['eval_set']=='prior']\n",
    "prior_set = prior_set.merge(order_products_prior, on='order_id')\n",
    "prior_set = pd.merge(prior_set, products, on = 'product_id', how = 'inner')\n",
    "prior_set = pd.merge(prior_set, departments, on = 'department_id', how = 'inner')\n",
    "prior_set = pd.merge(prior_set, aisles, on = 'aisle_id', how = 'inner')\n",
    "print(prior_set.shape)\n",
    "prior_set = prior_set.sample(frac=.001)\n",
    "print(prior_set.shape)"
   ]
  },
  {
   "cell_type": "code",
   "execution_count": 13,
   "metadata": {},
   "outputs": [
    {
     "name": "stdout",
     "output_type": "stream",
     "text": [
      "<class 'pandas.core.frame.DataFrame'>\n",
      "Int64Index: 69231 entries, 694415 to 924719\n",
      "Data columns (total 15 columns):\n",
      "order_id                  69231 non-null int64\n",
      "user_id                   69231 non-null int64\n",
      "eval_set                  69231 non-null object\n",
      "order_number              69231 non-null int64\n",
      "order_dow                 69231 non-null int64\n",
      "order_hour_of_day         69231 non-null int64\n",
      "days_since_prior_order    69231 non-null float64\n",
      "product_id                69231 non-null int64\n",
      "add_to_cart_order         69231 non-null int64\n",
      "reordered                 69231 non-null int64\n",
      "product_name              69231 non-null object\n",
      "aisle_id                  69231 non-null int64\n",
      "department_id             69231 non-null int64\n",
      "department                69231 non-null object\n",
      "aisle                     69231 non-null object\n",
      "dtypes: float64(1), int64(10), object(4)\n",
      "memory usage: 8.5+ MB\n",
      "<class 'pandas.core.frame.DataFrame'>\n",
      "Int64Index: 32434 entries, 18337041 to 956300\n",
      "Data columns (total 15 columns):\n",
      "order_id                  32434 non-null int64\n",
      "user_id                   32434 non-null int64\n",
      "eval_set                  32434 non-null object\n",
      "order_number              32434 non-null int64\n",
      "order_dow                 32434 non-null int64\n",
      "order_hour_of_day         32434 non-null int64\n",
      "days_since_prior_order    30351 non-null float64\n",
      "product_id                32434 non-null int64\n",
      "add_to_cart_order         32434 non-null int64\n",
      "reordered                 32434 non-null int64\n",
      "product_name              32434 non-null object\n",
      "aisle_id                  32434 non-null int64\n",
      "department_id             32434 non-null int64\n",
      "department                32434 non-null object\n",
      "aisle                     32434 non-null object\n",
      "dtypes: float64(1), int64(10), object(4)\n",
      "memory usage: 4.0+ MB\n"
     ]
    }
   ],
   "source": [
    "#IGnore\n",
    "non_text = [',','-',' ','.','&','%','#', '(',')','[',']','*']\n",
    "for symbols in non_text:\n",
    "    train_set['product_name'] = train_set['product_name'].str.replace(symbols, '')\n",
    "    prior_set['product_name'] = prior_set['product_name'].str.replace(symbols, '')\n",
    "train_set.info()\n",
    "prior_set.info()"
   ]
  },
  {
   "cell_type": "code",
   "execution_count": 14,
   "metadata": {},
   "outputs": [],
   "source": [
    "#Train Set Preparation: using train_set to prepare and check against the \"prior set\"\n",
    "train = train_set.loc[:,('user_id','order_id','order_number', 'product_name','department', 'aisle','order_dow','order_hour_of_day','days_since_prior_order','add_to_cart_order','reordered')]\n",
    "train = pd.get_dummies(train)\n",
    "train['days_since_prior_order'] = train['days_since_prior_order'].fillna(value=0)\n"
   ]
  },
  {
   "cell_type": "code",
   "execution_count": 15,
   "metadata": {},
   "outputs": [],
   "source": [
    "#Train Set Preparation: using train_set to prepare and check against the \"prior set\"\n",
    "test = prior_set.loc[:,('user_id','order_id','order_number', 'product_name','department', 'aisle','order_dow','order_hour_of_day','days_since_prior_order','add_to_cart_order','reordered')]\n",
    "test = pd.get_dummies(test)\n",
    "test['days_since_prior_order'] = test['days_since_prior_order'].fillna(value=0)\n",
    "\n"
   ]
  },
  {
   "cell_type": "code",
   "execution_count": 16,
   "metadata": {},
   "outputs": [
    {
     "data": {
      "text/html": [
       "<div>\n",
       "<style>\n",
       "    .dataframe thead tr:only-child th {\n",
       "        text-align: right;\n",
       "    }\n",
       "\n",
       "    .dataframe thead th {\n",
       "        text-align: left;\n",
       "    }\n",
       "\n",
       "    .dataframe tbody tr th {\n",
       "        vertical-align: top;\n",
       "    }\n",
       "</style>\n",
       "<table border=\"1\" class=\"dataframe\">\n",
       "  <thead>\n",
       "    <tr style=\"text-align: right;\">\n",
       "      <th></th>\n",
       "      <th>user_id</th>\n",
       "      <th>order_id</th>\n",
       "      <th>order_number</th>\n",
       "      <th>order_dow</th>\n",
       "      <th>order_hour_of_day</th>\n",
       "      <th>days_since_prior_order</th>\n",
       "      <th>add_to_cart_order</th>\n",
       "      <th>reordered</th>\n",
       "      <th>product_name_0CalorieStrawberryDragonfruitWaterBeverage</th>\n",
       "      <th>product_name_0FatBlackCherryGreekYogurty</th>\n",
       "      <th>...</th>\n",
       "      <th>aisle_spreads</th>\n",
       "      <th>aisle_tea</th>\n",
       "      <th>aisle_tofu meat alternatives</th>\n",
       "      <th>aisle_tortillas flat bread</th>\n",
       "      <th>aisle_trail mix snack mix</th>\n",
       "      <th>aisle_trash bags liners</th>\n",
       "      <th>aisle_vitamins supplements</th>\n",
       "      <th>aisle_water seltzer sparkling water</th>\n",
       "      <th>aisle_white wines</th>\n",
       "      <th>aisle_yogurt</th>\n",
       "    </tr>\n",
       "  </thead>\n",
       "  <tbody>\n",
       "    <tr>\n",
       "      <th>694415</th>\n",
       "      <td>37256</td>\n",
       "      <td>1622599</td>\n",
       "      <td>34</td>\n",
       "      <td>3</td>\n",
       "      <td>13</td>\n",
       "      <td>7.0</td>\n",
       "      <td>1</td>\n",
       "      <td>1</td>\n",
       "      <td>0</td>\n",
       "      <td>0</td>\n",
       "      <td>...</td>\n",
       "      <td>0</td>\n",
       "      <td>0</td>\n",
       "      <td>0</td>\n",
       "      <td>0</td>\n",
       "      <td>0</td>\n",
       "      <td>0</td>\n",
       "      <td>0</td>\n",
       "      <td>0</td>\n",
       "      <td>0</td>\n",
       "      <td>0</td>\n",
       "    </tr>\n",
       "    <tr>\n",
       "      <th>97771</th>\n",
       "      <td>160246</td>\n",
       "      <td>1896758</td>\n",
       "      <td>14</td>\n",
       "      <td>1</td>\n",
       "      <td>12</td>\n",
       "      <td>7.0</td>\n",
       "      <td>11</td>\n",
       "      <td>1</td>\n",
       "      <td>0</td>\n",
       "      <td>0</td>\n",
       "      <td>...</td>\n",
       "      <td>0</td>\n",
       "      <td>0</td>\n",
       "      <td>0</td>\n",
       "      <td>0</td>\n",
       "      <td>0</td>\n",
       "      <td>0</td>\n",
       "      <td>0</td>\n",
       "      <td>0</td>\n",
       "      <td>0</td>\n",
       "      <td>0</td>\n",
       "    </tr>\n",
       "    <tr>\n",
       "      <th>1199048</th>\n",
       "      <td>202781</td>\n",
       "      <td>2111036</td>\n",
       "      <td>25</td>\n",
       "      <td>2</td>\n",
       "      <td>11</td>\n",
       "      <td>30.0</td>\n",
       "      <td>34</td>\n",
       "      <td>0</td>\n",
       "      <td>0</td>\n",
       "      <td>0</td>\n",
       "      <td>...</td>\n",
       "      <td>0</td>\n",
       "      <td>0</td>\n",
       "      <td>0</td>\n",
       "      <td>0</td>\n",
       "      <td>0</td>\n",
       "      <td>0</td>\n",
       "      <td>0</td>\n",
       "      <td>0</td>\n",
       "      <td>0</td>\n",
       "      <td>0</td>\n",
       "    </tr>\n",
       "    <tr>\n",
       "      <th>483666</th>\n",
       "      <td>169819</td>\n",
       "      <td>1999653</td>\n",
       "      <td>31</td>\n",
       "      <td>5</td>\n",
       "      <td>10</td>\n",
       "      <td>5.0</td>\n",
       "      <td>6</td>\n",
       "      <td>1</td>\n",
       "      <td>0</td>\n",
       "      <td>0</td>\n",
       "      <td>...</td>\n",
       "      <td>0</td>\n",
       "      <td>0</td>\n",
       "      <td>0</td>\n",
       "      <td>0</td>\n",
       "      <td>0</td>\n",
       "      <td>0</td>\n",
       "      <td>0</td>\n",
       "      <td>0</td>\n",
       "      <td>0</td>\n",
       "      <td>0</td>\n",
       "    </tr>\n",
       "    <tr>\n",
       "      <th>406745</th>\n",
       "      <td>53385</td>\n",
       "      <td>3109527</td>\n",
       "      <td>11</td>\n",
       "      <td>0</td>\n",
       "      <td>13</td>\n",
       "      <td>29.0</td>\n",
       "      <td>6</td>\n",
       "      <td>1</td>\n",
       "      <td>0</td>\n",
       "      <td>0</td>\n",
       "      <td>...</td>\n",
       "      <td>0</td>\n",
       "      <td>0</td>\n",
       "      <td>0</td>\n",
       "      <td>0</td>\n",
       "      <td>0</td>\n",
       "      <td>0</td>\n",
       "      <td>0</td>\n",
       "      <td>0</td>\n",
       "      <td>0</td>\n",
       "      <td>0</td>\n",
       "    </tr>\n",
       "  </tbody>\n",
       "</table>\n",
       "<p>5 rows × 14231 columns</p>\n",
       "</div>"
      ],
      "text/plain": [
       "         user_id  order_id  order_number  order_dow  order_hour_of_day  \\\n",
       "694415     37256   1622599            34          3                 13   \n",
       "97771     160246   1896758            14          1                 12   \n",
       "1199048   202781   2111036            25          2                 11   \n",
       "483666    169819   1999653            31          5                 10   \n",
       "406745     53385   3109527            11          0                 13   \n",
       "\n",
       "         days_since_prior_order  add_to_cart_order  reordered  \\\n",
       "694415                      7.0                  1          1   \n",
       "97771                       7.0                 11          1   \n",
       "1199048                    30.0                 34          0   \n",
       "483666                      5.0                  6          1   \n",
       "406745                     29.0                  6          1   \n",
       "\n",
       "         product_name_0CalorieStrawberryDragonfruitWaterBeverage  \\\n",
       "694415                                                   0         \n",
       "97771                                                    0         \n",
       "1199048                                                  0         \n",
       "483666                                                   0         \n",
       "406745                                                   0         \n",
       "\n",
       "         product_name_0FatBlackCherryGreekYogurty      ...       \\\n",
       "694415                                          0      ...        \n",
       "97771                                           0      ...        \n",
       "1199048                                         0      ...        \n",
       "483666                                          0      ...        \n",
       "406745                                          0      ...        \n",
       "\n",
       "         aisle_spreads  aisle_tea  aisle_tofu meat alternatives  \\\n",
       "694415               0          0                             0   \n",
       "97771                0          0                             0   \n",
       "1199048              0          0                             0   \n",
       "483666               0          0                             0   \n",
       "406745               0          0                             0   \n",
       "\n",
       "         aisle_tortillas flat bread  aisle_trail mix snack mix  \\\n",
       "694415                            0                          0   \n",
       "97771                             0                          0   \n",
       "1199048                           0                          0   \n",
       "483666                            0                          0   \n",
       "406745                            0                          0   \n",
       "\n",
       "         aisle_trash bags liners  aisle_vitamins supplements  \\\n",
       "694415                         0                           0   \n",
       "97771                          0                           0   \n",
       "1199048                        0                           0   \n",
       "483666                         0                           0   \n",
       "406745                         0                           0   \n",
       "\n",
       "         aisle_water seltzer sparkling water  aisle_white wines  aisle_yogurt  \n",
       "694415                                     0                  0             0  \n",
       "97771                                      0                  0             0  \n",
       "1199048                                    0                  0             0  \n",
       "483666                                     0                  0             0  \n",
       "406745                                     0                  0             0  \n",
       "\n",
       "[5 rows x 14231 columns]"
      ]
     },
     "execution_count": 16,
     "metadata": {},
     "output_type": "execute_result"
    }
   ],
   "source": [
    "train.head()"
   ]
  },
  {
   "cell_type": "code",
   "execution_count": 7,
   "metadata": {},
   "outputs": [
    {
     "ename": "ValueError",
     "evalue": "Must pass DataFrame with boolean values only",
     "output_type": "error",
     "traceback": [
      "\u001b[1;31m---------------------------------------------------------------------------\u001b[0m",
      "\u001b[1;31mValueError\u001b[0m                                Traceback (most recent call last)",
      "\u001b[1;32m<ipython-input-7-d2424c93289c>\u001b[0m in \u001b[0;36m<module>\u001b[1;34m()\u001b[0m\n\u001b[1;32m----> 1\u001b[1;33m \u001b[0mtrain\u001b[0m \u001b[1;33m=\u001b[0m \u001b[0mtrain\u001b[0m\u001b[1;33m[\u001b[0m\u001b[0mtest\u001b[0m\u001b[1;33m]\u001b[0m\u001b[1;33m\u001b[0m\u001b[0m\n\u001b[0m\u001b[0;32m      2\u001b[0m \u001b[0mtrain\u001b[0m \u001b[1;33m=\u001b[0m \u001b[0mtrain\u001b[0m\u001b[1;33m[\u001b[0m\u001b[0mtest\u001b[0m\u001b[1;33m.\u001b[0m\u001b[0mcolumns\u001b[0m\u001b[1;33m]\u001b[0m\u001b[1;33m\u001b[0m\u001b[0m\n\u001b[0;32m      3\u001b[0m \u001b[0mtrain\u001b[0m\u001b[1;33m.\u001b[0m\u001b[0mhead\u001b[0m\u001b[1;33m\u001b[0m\u001b[0m\n",
      "\u001b[1;32mc:\\users\\kj.park\\appdata\\local\\programs\\python\\python36\\lib\\site-packages\\pandas\\core\\frame.py\u001b[0m in \u001b[0;36m__getitem__\u001b[1;34m(self, key)\u001b[0m\n\u001b[0;32m   1958\u001b[0m             \u001b[1;32mreturn\u001b[0m \u001b[0mself\u001b[0m\u001b[1;33m.\u001b[0m\u001b[0m_getitem_array\u001b[0m\u001b[1;33m(\u001b[0m\u001b[0mkey\u001b[0m\u001b[1;33m)\u001b[0m\u001b[1;33m\u001b[0m\u001b[0m\n\u001b[0;32m   1959\u001b[0m         \u001b[1;32melif\u001b[0m \u001b[0misinstance\u001b[0m\u001b[1;33m(\u001b[0m\u001b[0mkey\u001b[0m\u001b[1;33m,\u001b[0m \u001b[0mDataFrame\u001b[0m\u001b[1;33m)\u001b[0m\u001b[1;33m:\u001b[0m\u001b[1;33m\u001b[0m\u001b[0m\n\u001b[1;32m-> 1960\u001b[1;33m             \u001b[1;32mreturn\u001b[0m \u001b[0mself\u001b[0m\u001b[1;33m.\u001b[0m\u001b[0m_getitem_frame\u001b[0m\u001b[1;33m(\u001b[0m\u001b[0mkey\u001b[0m\u001b[1;33m)\u001b[0m\u001b[1;33m\u001b[0m\u001b[0m\n\u001b[0m\u001b[0;32m   1961\u001b[0m         \u001b[1;32melif\u001b[0m \u001b[0mis_mi_columns\u001b[0m\u001b[1;33m:\u001b[0m\u001b[1;33m\u001b[0m\u001b[0m\n\u001b[0;32m   1962\u001b[0m             \u001b[1;32mreturn\u001b[0m \u001b[0mself\u001b[0m\u001b[1;33m.\u001b[0m\u001b[0m_getitem_multilevel\u001b[0m\u001b[1;33m(\u001b[0m\u001b[0mkey\u001b[0m\u001b[1;33m)\u001b[0m\u001b[1;33m\u001b[0m\u001b[0m\n",
      "\u001b[1;32mc:\\users\\kj.park\\appdata\\local\\programs\\python\\python36\\lib\\site-packages\\pandas\\core\\frame.py\u001b[0m in \u001b[0;36m_getitem_frame\u001b[1;34m(self, key)\u001b[0m\n\u001b[0;32m   2033\u001b[0m     \u001b[1;32mdef\u001b[0m \u001b[0m_getitem_frame\u001b[0m\u001b[1;33m(\u001b[0m\u001b[0mself\u001b[0m\u001b[1;33m,\u001b[0m \u001b[0mkey\u001b[0m\u001b[1;33m)\u001b[0m\u001b[1;33m:\u001b[0m\u001b[1;33m\u001b[0m\u001b[0m\n\u001b[0;32m   2034\u001b[0m         \u001b[1;32mif\u001b[0m \u001b[0mkey\u001b[0m\u001b[1;33m.\u001b[0m\u001b[0mvalues\u001b[0m\u001b[1;33m.\u001b[0m\u001b[0msize\u001b[0m \u001b[1;32mand\u001b[0m \u001b[1;32mnot\u001b[0m \u001b[0mis_bool_dtype\u001b[0m\u001b[1;33m(\u001b[0m\u001b[0mkey\u001b[0m\u001b[1;33m.\u001b[0m\u001b[0mvalues\u001b[0m\u001b[1;33m)\u001b[0m\u001b[1;33m:\u001b[0m\u001b[1;33m\u001b[0m\u001b[0m\n\u001b[1;32m-> 2035\u001b[1;33m             \u001b[1;32mraise\u001b[0m \u001b[0mValueError\u001b[0m\u001b[1;33m(\u001b[0m\u001b[1;34m'Must pass DataFrame with boolean values only'\u001b[0m\u001b[1;33m)\u001b[0m\u001b[1;33m\u001b[0m\u001b[0m\n\u001b[0m\u001b[0;32m   2036\u001b[0m         \u001b[1;32mreturn\u001b[0m \u001b[0mself\u001b[0m\u001b[1;33m.\u001b[0m\u001b[0mwhere\u001b[0m\u001b[1;33m(\u001b[0m\u001b[0mkey\u001b[0m\u001b[1;33m)\u001b[0m\u001b[1;33m\u001b[0m\u001b[0m\n\u001b[0;32m   2037\u001b[0m \u001b[1;33m\u001b[0m\u001b[0m\n",
      "\u001b[1;31mValueError\u001b[0m: Must pass DataFrame with boolean values only"
     ]
    }
   ],
   "source": [
    "train = train[test]\n",
    "train = train[test.columns]\n",
    "train.head"
   ]
  },
  {
   "cell_type": "code",
   "execution_count": null,
   "metadata": {
    "scrolled": true
   },
   "outputs": [],
   "source": [
    "train_X = train.loc[:, train.columns != 'reordered']\n",
    "train_y = train.loc[:,('reordered')]\n",
    "print(train_X.shape)\n",
    "print(train_y.shape)\n",
    "test_X = test.loc[:, test.columns != 'reordered']\n",
    "test_y = test.loc[:,('reordered')]\n",
    "print(test_X.shape)\n",
    "print(test_y.shape)"
   ]
  },
  {
   "cell_type": "code",
   "execution_count": null,
   "metadata": {},
   "outputs": [],
   "source": [
    "from sklearn.linear_model import LogisticRegression\n",
    "LogReg = LogisticRegression()"
   ]
  },
  {
   "cell_type": "code",
   "execution_count": null,
   "metadata": {
    "scrolled": true
   },
   "outputs": [],
   "source": [
    "LogReg = LogisticRegression()"
   ]
  },
  {
   "cell_type": "code",
   "execution_count": null,
   "metadata": {},
   "outputs": [],
   "source": [
    "LogReg.fit(train_X, train_y).score(test_X, test_y)\n",
    "\n",
    "#.predict(test_X)\n",
    "#test_y.head()"
   ]
  },
  {
   "cell_type": "code",
   "execution_count": null,
   "metadata": {},
   "outputs": [],
   "source": []
  },
  {
   "cell_type": "code",
   "execution_count": null,
   "metadata": {},
   "outputs": [],
   "source": []
  },
  {
   "cell_type": "code",
   "execution_count": null,
   "metadata": {},
   "outputs": [],
   "source": []
  },
  {
   "cell_type": "code",
   "execution_count": null,
   "metadata": {},
   "outputs": [],
   "source": []
  },
  {
   "cell_type": "code",
   "execution_count": null,
   "metadata": {},
   "outputs": [],
   "source": []
  },
  {
   "cell_type": "code",
   "execution_count": null,
   "metadata": {},
   "outputs": [],
   "source": [
    "#IGnore\n",
    "non_text = [',','-',' ','?','.','&','%','#', '(',')','[',']','*','^','$','@','=','+','!','®']\n",
    "for symbols in non_text:\n",
    "    train_set['product_name'] = train_set['product_name'].str.replace(symbols, '')\n",
    "    prior_set['product_name'] = prior_set['product_name'].str.replace(symbols, '')\n",
    "train_set.info()\n",
    "prior_set.info()"
   ]
  }
 ],
 "metadata": {
  "kernelspec": {
   "display_name": "Python 3",
   "language": "python",
   "name": "python3"
  },
  "language_info": {
   "codemirror_mode": {
    "name": "ipython",
    "version": 3
   },
   "file_extension": ".py",
   "mimetype": "text/x-python",
   "name": "python",
   "nbconvert_exporter": "python",
   "pygments_lexer": "ipython3",
   "version": "3.6.2"
  }
 },
 "nbformat": 4,
 "nbformat_minor": 2
}
